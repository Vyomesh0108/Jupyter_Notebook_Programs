{
 "cells": [
  {
   "cell_type": "code",
   "execution_count": 2,
   "id": "3d9f6999",
   "metadata": {},
   "outputs": [
    {
     "name": "stdout",
     "output_type": "stream",
     "text": [
      "Hello & Welcome to the world of Jupyter Notebook\n"
     ]
    }
   ],
   "source": [
    "# Magic Commands are of 2 types:-\n",
    "# 1. Line magic command(%)\n",
    "# 2. Cell magic command(%%)\n",
    "\n",
    "# To run a any file from another file, write \n",
    "# %run filename\n",
    "%run First_jupyter_program.ipynb"
   ]
  },
  {
   "cell_type": "code",
   "execution_count": 15,
   "id": "6b7edcad",
   "metadata": {},
   "outputs": [
    {
     "data": {
      "application/json": {
       "cell": {
        "!": "OSMagics",
        "HTML": "Other",
        "SVG": "Other",
        "bash": "Other",
        "capture": "ExecutionMagics",
        "cmd": "Other",
        "debug": "ExecutionMagics",
        "file": "Other",
        "html": "DisplayMagics",
        "javascript": "DisplayMagics",
        "js": "DisplayMagics",
        "latex": "DisplayMagics",
        "markdown": "DisplayMagics",
        "perl": "Other",
        "prun": "ExecutionMagics",
        "pypy": "Other",
        "python": "Other",
        "python2": "Other",
        "python3": "Other",
        "ruby": "Other",
        "script": "ScriptMagics",
        "sh": "Other",
        "svg": "DisplayMagics",
        "sx": "OSMagics",
        "system": "OSMagics",
        "time": "ExecutionMagics",
        "timeit": "ExecutionMagics",
        "writefile": "OSMagics"
       },
       "line": {
        "alias": "OSMagics",
        "alias_magic": "BasicMagics",
        "autoawait": "AsyncMagics",
        "autocall": "AutoMagics",
        "automagic": "AutoMagics",
        "autosave": "KernelMagics",
        "bookmark": "OSMagics",
        "cd": "OSMagics",
        "clear": "KernelMagics",
        "cls": "KernelMagics",
        "colors": "BasicMagics",
        "conda": "PackagingMagics",
        "config": "ConfigMagics",
        "connect_info": "KernelMagics",
        "copy": "Other",
        "ddir": "Other",
        "debug": "ExecutionMagics",
        "dhist": "OSMagics",
        "dirs": "OSMagics",
        "doctest_mode": "BasicMagics",
        "echo": "Other",
        "ed": "Other",
        "edit": "KernelMagics",
        "env": "OSMagics",
        "gui": "BasicMagics",
        "hist": "Other",
        "history": "HistoryMagics",
        "killbgscripts": "ScriptMagics",
        "ldir": "Other",
        "less": "KernelMagics",
        "load": "CodeMagics",
        "load_ext": "ExtensionMagics",
        "loadpy": "CodeMagics",
        "logoff": "LoggingMagics",
        "logon": "LoggingMagics",
        "logstart": "LoggingMagics",
        "logstate": "LoggingMagics",
        "logstop": "LoggingMagics",
        "ls": "Other",
        "lsmagic": "BasicMagics",
        "macro": "ExecutionMagics",
        "magic": "BasicMagics",
        "matplotlib": "PylabMagics",
        "mkdir": "Other",
        "more": "KernelMagics",
        "notebook": "BasicMagics",
        "page": "BasicMagics",
        "pastebin": "CodeMagics",
        "pdb": "ExecutionMagics",
        "pdef": "NamespaceMagics",
        "pdoc": "NamespaceMagics",
        "pfile": "NamespaceMagics",
        "pinfo": "NamespaceMagics",
        "pinfo2": "NamespaceMagics",
        "pip": "PackagingMagics",
        "popd": "OSMagics",
        "pprint": "BasicMagics",
        "precision": "BasicMagics",
        "prun": "ExecutionMagics",
        "psearch": "NamespaceMagics",
        "psource": "NamespaceMagics",
        "pushd": "OSMagics",
        "pwd": "OSMagics",
        "pycat": "OSMagics",
        "pylab": "PylabMagics",
        "qtconsole": "KernelMagics",
        "quickref": "BasicMagics",
        "recall": "HistoryMagics",
        "rehashx": "OSMagics",
        "reload_ext": "ExtensionMagics",
        "ren": "Other",
        "rep": "Other",
        "rerun": "HistoryMagics",
        "reset": "NamespaceMagics",
        "reset_selective": "NamespaceMagics",
        "rmdir": "Other",
        "run": "ExecutionMagics",
        "save": "CodeMagics",
        "sc": "OSMagics",
        "set_env": "OSMagics",
        "store": "StoreMagics",
        "sx": "OSMagics",
        "system": "OSMagics",
        "tb": "ExecutionMagics",
        "time": "ExecutionMagics",
        "timeit": "ExecutionMagics",
        "unalias": "OSMagics",
        "unload_ext": "ExtensionMagics",
        "who": "NamespaceMagics",
        "who_ls": "NamespaceMagics",
        "whos": "NamespaceMagics",
        "xdel": "NamespaceMagics",
        "xmode": "BasicMagics"
       }
      },
      "text/plain": [
       "Available line magics:\n",
       "%alias  %alias_magic  %autoawait  %autocall  %automagic  %autosave  %bookmark  %cd  %clear  %cls  %colors  %conda  %config  %connect_info  %copy  %ddir  %debug  %dhist  %dirs  %doctest_mode  %echo  %ed  %edit  %env  %gui  %hist  %history  %killbgscripts  %ldir  %less  %load  %load_ext  %loadpy  %logoff  %logon  %logstart  %logstate  %logstop  %ls  %lsmagic  %macro  %magic  %matplotlib  %mkdir  %more  %notebook  %page  %pastebin  %pdb  %pdef  %pdoc  %pfile  %pinfo  %pinfo2  %pip  %popd  %pprint  %precision  %prun  %psearch  %psource  %pushd  %pwd  %pycat  %pylab  %qtconsole  %quickref  %recall  %rehashx  %reload_ext  %ren  %rep  %rerun  %reset  %reset_selective  %rmdir  %run  %save  %sc  %set_env  %store  %sx  %system  %tb  %time  %timeit  %unalias  %unload_ext  %who  %who_ls  %whos  %xdel  %xmode\n",
       "\n",
       "Available cell magics:\n",
       "%%!  %%HTML  %%SVG  %%bash  %%capture  %%cmd  %%debug  %%file  %%html  %%javascript  %%js  %%latex  %%markdown  %%perl  %%prun  %%pypy  %%python  %%python2  %%python3  %%ruby  %%script  %%sh  %%svg  %%sx  %%system  %%time  %%timeit  %%writefile\n",
       "\n",
       "Automagic is ON, % prefix IS NOT needed for line magics."
      ]
     },
     "execution_count": 15,
     "metadata": {},
     "output_type": "execute_result"
    }
   ],
   "source": [
    "# To list all magic commands, write\n",
    "%lsmagic\n",
    "# This will show all line & cell magic commands"
   ]
  },
  {
   "cell_type": "code",
   "execution_count": 4,
   "id": "e66cefb1",
   "metadata": {},
   "outputs": [],
   "source": [
    "# To show contains of another notebook file, write\n",
    "# %pycat filename\n",
    "%pycat First_jupyter_program.ipynb"
   ]
  },
  {
   "cell_type": "code",
   "execution_count": 7,
   "id": "5cb38dcb",
   "metadata": {},
   "outputs": [
    {
     "name": "stdout",
     "output_type": "stream",
     "text": [
      "Enter Number: 1234\n",
      "\n",
      " Reverse No:  4321\n"
     ]
    }
   ],
   "source": [
    "def reverse(no):\n",
    "    rev = 0\n",
    "    rem = 0\n",
    "    \n",
    "    while no >= 1:\n",
    "        rem = no % 10\n",
    "        rev = (rev * 10) + rem\n",
    "        no = no // 10\n",
    "        \n",
    "    return rev\n",
    "\n",
    "no = int(input(\"Enter Number: \"))\n",
    "rev = reverse(no)\n",
    "print(\"\\n Reverse No: \",rev) "
   ]
  },
  {
   "cell_type": "code",
   "execution_count": 8,
   "id": "865f07a4",
   "metadata": {},
   "outputs": [
    {
     "name": "stdout",
     "output_type": "stream",
     "text": [
      " "
     ]
    }
   ],
   "source": [
    "# It is used to run any function of current notebook with details like number of internal calls, timing, etc.\n",
    "# %prun function_name\n",
    "%prun reverse(1234)"
   ]
  },
  {
   "cell_type": "code",
   "execution_count": 7,
   "id": "fddffb9c",
   "metadata": {},
   "outputs": [
    {
     "data": {
      "text/plain": [
       "['The current date is: 01-10-2022 ', 'Enter the new date: (dd-mm-yy) ']"
      ]
     },
     "execution_count": 7,
     "metadata": {},
     "output_type": "execute_result"
    }
   ],
   "source": [
    "%%system \n",
    "date\n",
    "\n",
    "# OR\n",
    "\n",
    "# %system date\n",
    "# It is used to run the current date of system "
   ]
  },
  {
   "cell_type": "code",
   "execution_count": 8,
   "id": "765a05a8",
   "metadata": {},
   "outputs": [
    {
     "data": {
      "text/plain": [
       "['The current time is: 14:34:23.26', 'Enter the new time: ']"
      ]
     },
     "execution_count": 8,
     "metadata": {},
     "output_type": "execute_result"
    }
   ],
   "source": [
    "%%system \n",
    "time\n",
    "\n",
    "# OR\n",
    "\n",
    "# %system time\n",
    "# It is used to run the current time of system"
   ]
  },
  {
   "cell_type": "code",
   "execution_count": 9,
   "id": "3d7ad676",
   "metadata": {},
   "outputs": [
    {
     "data": {
      "text/plain": [
       "[' Volume in drive C is Windows',\n",
       " ' Volume Serial Number is 98D8-D288',\n",
       " '',\n",
       " ' Directory of C:\\\\Users\\\\vyome\\\\Python_Jupyter_Program20',\n",
       " '',\n",
       " '01-10-2022  14:34    <DIR>          .',\n",
       " '01-10-2022  13:27    <DIR>          ..',\n",
       " '01-10-2022  13:35    <DIR>          .ipynb_checkpoints',\n",
       " '01-10-2022  13:37               941 First_jupyter_program.ipynb',\n",
       " '01-10-2022  14:34            11,229 Jupyter_Magic_Command.ipynb',\n",
       " '01-10-2022  13:32            11,900 Jupyter_Themes .ipynb',\n",
       " '               3 File(s)         24,070 bytes',\n",
       " '               3 Dir(s)  157,365,800,960 bytes free']"
      ]
     },
     "execution_count": 9,
     "metadata": {},
     "output_type": "execute_result"
    }
   ],
   "source": [
    "%%system \n",
    "dir\n",
    "\n",
    "# OR\n",
    "\n",
    "# %system dir\n",
    "# It is used to run the current directory in the system"
   ]
  },
  {
   "cell_type": "code",
   "execution_count": 14,
   "id": "08cefcf8",
   "metadata": {},
   "outputs": [
    {
     "name": "stdout",
     "output_type": "stream",
     "text": [
      "1 2 3 4 5 6 7 8 9 10 CPU times: total: 15.6 ms\n",
      "Wall time: 10 s\n"
     ]
    }
   ],
   "source": [
    "%%time\n",
    "import time \n",
    "\n",
    "for i in range(1, 11):\n",
    "    time.sleep(1)\n",
    "    print(i, end=\" \")"
   ]
  },
  {
   "cell_type": "code",
   "execution_count": 13,
   "id": "46075339",
   "metadata": {},
   "outputs": [],
   "source": [
    "%alias jupynot echo \"This is Jupyter Notebook\"\n",
    "# It is used to assign another name \n",
    "# Anything you can write instead of jupynot & 'This is Jupyter Notebook'\n",
    "# For running this code, write next code"
   ]
  },
  {
   "cell_type": "code",
   "execution_count": 14,
   "id": "db5f36ee",
   "metadata": {},
   "outputs": [
    {
     "name": "stdout",
     "output_type": "stream",
     "text": [
      "\"This is Jupyter Notebook\" \n"
     ]
    }
   ],
   "source": [
    "jupynot"
   ]
  },
  {
   "cell_type": "code",
   "execution_count": 15,
   "id": "92410212",
   "metadata": {},
   "outputs": [
    {
     "data": {
      "text/plain": [
       "'C:\\\\Users\\\\vyome\\\\Python_Jupyter_Program20'"
      ]
     },
     "execution_count": 15,
     "metadata": {},
     "output_type": "execute_result"
    }
   ],
   "source": [
    "%pwd\n",
    "# To show cuurent directory\n",
    "# 'pwd' -> Present working directory"
   ]
  },
  {
   "cell_type": "code",
   "execution_count": 16,
   "id": "272ad745",
   "metadata": {},
   "outputs": [],
   "source": [
    "%mkdir magic\n",
    "# To make new directory\n",
    "# %mkdir directory_name"
   ]
  },
  {
   "cell_type": "code",
   "execution_count": 17,
   "id": "85423768",
   "metadata": {},
   "outputs": [
    {
     "name": "stdout",
     "output_type": "stream",
     "text": [
      "C:\\Users\\vyome\\Python_Jupyter_Program20\\magic\n"
     ]
    }
   ],
   "source": [
    "%cd magic\n",
    "# For changing directory"
   ]
  },
  {
   "cell_type": "code",
   "execution_count": 18,
   "id": "6f53b930",
   "metadata": {},
   "outputs": [
    {
     "name": "stdout",
     "output_type": "stream",
     "text": [
      "C:\\Users\\vyome\\Python_Jupyter_Program20\n"
     ]
    }
   ],
   "source": [
    "%cd ..\n",
    "# Coming out for current directory"
   ]
  },
  {
   "cell_type": "code",
   "execution_count": 19,
   "id": "ceb73bdd",
   "metadata": {},
   "outputs": [
    {
     "name": "stdout",
     "output_type": "stream",
     "text": [
      " Volume in drive C is Windows\n",
      " Volume Serial Number is 98D8-D288\n",
      "\n",
      " Directory of C:\\Users\\vyome\\Python_Jupyter_Program20\n",
      "\n",
      "01-10-2022  14:40    <DIR>          .\n",
      "01-10-2022  13:27    <DIR>          ..\n",
      "01-10-2022  13:35    <DIR>          .ipynb_checkpoints\n",
      "01-10-2022  13:37               941 First_jupyter_program.ipynb\n",
      "01-10-2022  14:40            12,824 Jupyter_Magic_Command.ipynb\n",
      "01-10-2022  13:32            11,900 Jupyter_Themes .ipynb\n",
      "01-10-2022  14:38    <DIR>          magic\n",
      "               3 File(s)         25,665 bytes\n",
      "               4 Dir(s)  157,358,972,928 bytes free\n"
     ]
    }
   ],
   "source": [
    "%ls\n",
    "# For listing all contains of current directory"
   ]
  },
  {
   "cell_type": "code",
   "execution_count": 20,
   "id": "ed8da2f7",
   "metadata": {},
   "outputs": [],
   "source": [
    "%rmdir magic\n",
    "# For removing the directory\n",
    "# %rmdir directory_name"
   ]
  },
  {
   "cell_type": "code",
   "execution_count": 21,
   "id": "11db0f10",
   "metadata": {},
   "outputs": [
    {
     "name": "stdout",
     "output_type": "stream",
     "text": [
      "Stored 'st' (str)\n",
      "Stored 'val1' (int)\n",
      "Stored 'val2' (float)\n"
     ]
    }
   ],
   "source": [
    "# To store variable in global memory\n",
    "st = \"abc\"\n",
    "val1 = 55\n",
    "val2 = 45.67\n",
    "\n",
    "%store st\n",
    "%store val1\n",
    "%store val2"
   ]
  },
  {
   "cell_type": "code",
   "execution_count": 22,
   "id": "5f761fdb",
   "metadata": {},
   "outputs": [],
   "source": [
    "# To Fetch variable store in global memory\n",
    "%store -r st\n",
    "%store -r val1\n",
    "%store -r val2\n",
    "\n",
    "print(st)\n",
    "print(val1)\n",
    "print(val2)"
   ]
  }
 ],
 "metadata": {
  "kernelspec": {
   "display_name": "Python 3 (ipykernel)",
   "language": "python",
   "name": "python3"
  },
  "language_info": {
   "codemirror_mode": {
    "name": "ipython",
    "version": 3
   },
   "file_extension": ".py",
   "mimetype": "text/x-python",
   "name": "python",
   "nbconvert_exporter": "python",
   "pygments_lexer": "ipython3",
   "version": "3.9.12"
  }
 },
 "nbformat": 4,
 "nbformat_minor": 5
}
