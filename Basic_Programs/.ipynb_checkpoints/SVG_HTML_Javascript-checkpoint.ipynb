{
 "cells": [
  {
   "cell_type": "code",
   "execution_count": 1,
   "id": "18fd92f3",
   "metadata": {},
   "outputs": [],
   "source": [
    "st = \"vyomesh\"\n",
    "var1 = 50\n",
    "var2 = 45.67"
   ]
  },
  {
   "cell_type": "code",
   "execution_count": 3,
   "id": "16623c96",
   "metadata": {},
   "outputs": [
    {
     "name": "stdout",
     "output_type": "stream",
     "text": [
      "st\t \n"
     ]
    }
   ],
   "source": [
    "%who str"
   ]
  },
  {
   "cell_type": "code",
   "execution_count": 4,
   "id": "eff5d615",
   "metadata": {},
   "outputs": [
    {
     "name": "stdout",
     "output_type": "stream",
     "text": [
      "var1\t \n"
     ]
    }
   ],
   "source": [
    "%who int"
   ]
  },
  {
   "cell_type": "code",
   "execution_count": 6,
   "id": "f863a734",
   "metadata": {},
   "outputs": [
    {
     "name": "stdout",
     "output_type": "stream",
     "text": [
      "var2\t \n"
     ]
    }
   ],
   "source": [
    "%who float"
   ]
  },
  {
   "cell_type": "code",
   "execution_count": 7,
   "id": "5166a4b3",
   "metadata": {},
   "outputs": [
    {
     "name": "stdout",
     "output_type": "stream",
     "text": [
      "st\t var1\t var2\t \n"
     ]
    }
   ],
   "source": [
    "%who"
   ]
  },
  {
   "cell_type": "code",
   "execution_count": null,
   "id": "5651e5fc",
   "metadata": {},
   "outputs": [],
   "source": [
    "%%javascript\n",
    "\n",
    "alert(\"Your Page may on risk!!!\");\n",
    "var b = confirm(\"R U SURE\")\n",
    "document.write(b)"
   ]
  },
  {
   "cell_type": "code",
   "execution_count": null,
   "id": "99e82344",
   "metadata": {},
   "outputs": [],
   "source": [
    "%%javascript\n",
    "\n",
    "var msg = prompt(\"Enter Message: \");\n",
    "document.write(msg);"
   ]
  },
  {
   "cell_type": "code",
   "execution_count": null,
   "id": "78830635",
   "metadata": {},
   "outputs": [],
   "source": [
    "%%javascript\n",
    "\n",
    "var n1 = parseInt(prompt(\"Enter No1: \"));\n",
    "var n2 = parseInt(prompt(\"Enter No2: \"));\n",
    "document.write(\"ADD = \"+(n1+n2));"
   ]
  },
  {
   "cell_type": "code",
   "execution_count": null,
   "id": "36c1b695",
   "metadata": {},
   "outputs": [],
   "source": [
    "%%javascript\n",
    "\n",
    "var no = parseInt(prompt(\"Enter No: \"));\n",
    "var i = 0;\n",
    "document.write(\"<table align=center border=5>\")\n",
    "\n",
    "for(i=0; i<=10; i++)\n",
    "    {\n",
    "        document.write(\"<tr><td>\"+no+\"</td><td>*\"+i+\"</td><td>=\"+(no*i)+\"</td></tr>\"); \n",
    "    }\n",
    "\n",
    "document.write(\"</table>\");  "
   ]
  },
  {
   "cell_type": "code",
   "execution_count": null,
   "id": "6eb40403",
   "metadata": {},
   "outputs": [],
   "source": [
    "%%javascript\n",
    "\n",
    "var no = parseInt(prompt(\"Enter No: \"));\n",
    "var f = 1;\n",
    "\n",
    "while(no>=1)\n",
    "    {\n",
    "        f = f*no;\n",
    "        no-=1;\n",
    "    }\n",
    "\n",
    "document.write(f);"
   ]
  },
  {
   "cell_type": "code",
   "execution_count": null,
   "id": "11b69aa4",
   "metadata": {},
   "outputs": [],
   "source": [
    "%%javascript\n",
    "\n",
    "var n1 = parseInt(prompt(\"Enter No1: \"));\n",
    "var n2 = parseInt(prompt(\"Enter No2: \"));\n",
    "\n",
    "var power = 1;\n",
    "var i = 1;\n",
    "\n",
    "while(i<=n2)\n",
    "    {\n",
    "        power = power*n1;\n",
    "        i = i+1;\n",
    "    }\n",
    "\n",
    "document.write(power);"
   ]
  }
 ],
 "metadata": {
  "kernelspec": {
   "display_name": "Python 3 (ipykernel)",
   "language": "python",
   "name": "python3"
  },
  "language_info": {
   "codemirror_mode": {
    "name": "ipython",
    "version": 3
   },
   "file_extension": ".py",
   "mimetype": "text/x-python",
   "name": "python",
   "nbconvert_exporter": "python",
   "pygments_lexer": "ipython3",
   "version": "3.9.12"
  }
 },
 "nbformat": 4,
 "nbformat_minor": 5
}
