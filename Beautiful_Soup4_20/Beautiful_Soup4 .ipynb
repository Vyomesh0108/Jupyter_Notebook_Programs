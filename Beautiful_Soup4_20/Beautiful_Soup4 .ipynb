{
 "cells": [
  {
   "cell_type": "code",
   "execution_count": 1,
   "id": "38729ccb",
   "metadata": {},
   "outputs": [
    {
     "name": "stdout",
     "output_type": "stream",
     "text": [
      "Requirement already satisfied: beautifulsoup4 in c:\\users\\vyome\\anaconda3\\lib\\site-packages (4.11.1)\n",
      "Requirement already satisfied: soupsieve>1.2 in c:\\users\\vyome\\anaconda3\\lib\\site-packages (from beautifulsoup4) (2.3.1)\n",
      "Note: you may need to restart the kernel to use updated packages.\n"
     ]
    }
   ],
   "source": [
    "pip install beautifulsoup4"
   ]
  },
  {
   "cell_type": "code",
   "execution_count": 2,
   "id": "67f49af7",
   "metadata": {},
   "outputs": [
    {
     "name": "stdout",
     "output_type": "stream",
     "text": [
      "Requirement already satisfied: requests in c:\\users\\vyome\\anaconda3\\lib\\site-packages (2.27.1)\n",
      "Requirement already satisfied: certifi>=2017.4.17 in c:\\users\\vyome\\anaconda3\\lib\\site-packages (from requests) (2021.10.8)\n",
      "Requirement already satisfied: idna<4,>=2.5 in c:\\users\\vyome\\anaconda3\\lib\\site-packages (from requests) (3.3)\n",
      "Requirement already satisfied: urllib3<1.27,>=1.21.1 in c:\\users\\vyome\\anaconda3\\lib\\site-packages (from requests) (1.26.9)\n",
      "Requirement already satisfied: charset-normalizer~=2.0.0 in c:\\users\\vyome\\anaconda3\\lib\\site-packages (from requests) (2.0.4)\n",
      "Note: you may need to restart the kernel to use updated packages.\n"
     ]
    }
   ],
   "source": [
    "pip install requests"
   ]
  },
  {
   "cell_type": "code",
   "execution_count": 3,
   "id": "4078a33b",
   "metadata": {},
   "outputs": [
    {
     "name": "stdout",
     "output_type": "stream",
     "text": [
      "200\n",
      "{'Date': 'Sat, 08 Oct 2022 07:11:35 GMT', 'Expires': '-1', 'Cache-Control': 'private, max-age=0', 'Content-Type': 'text/html; charset=ISO-8859-1', 'P3P': 'CP=\"This is not a P3P policy! See g.co/p3phelp for more info.\"', 'Content-Encoding': 'gzip', 'Server': 'gws', 'X-XSS-Protection': '0', 'X-Frame-Options': 'SAMEORIGIN', 'Set-Cookie': '1P_JAR=2022-10-08-07; expires=Mon, 07-Nov-2022 07:11:35 GMT; path=/; domain=.google.com; Secure, AEC=AakniGPXz4v1VllG_PaQ8-dz_t8WDDire4TD73C5rkEpytOiR2IXiWfUew; expires=Thu, 06-Apr-2023 07:11:35 GMT; path=/; domain=.google.com; Secure; HttpOnly; SameSite=lax, NID=511=Ij7LF0UlG9UZKxznKzHFFIWxwc-IZ2lHxa1ZKVugg0Z0ps7kFzuTaN2R0cFM13rmSQUWr5m9wYLweWmQOvlROXrNlJKBjBwyPi690qqO4FJyVopuT_FTBjbN6y7S7UKMRNWjcwKWk3wlKJulDitmywLR-yDNSO-E969FWQv3LOM; expires=Sun, 09-Apr-2023 07:11:35 GMT; path=/; domain=.google.com; HttpOnly', 'Alt-Svc': 'h3=\":443\"; ma=2592000,h3-29=\":443\"; ma=2592000,h3-Q050=\":443\"; ma=2592000,h3-Q046=\":443\"; ma=2592000,h3-Q043=\":443\"; ma=2592000,quic=\":443\"; ma=2592000; v=\"46,43\"', 'Transfer-Encoding': 'chunked'}\n",
      "\n",
      "\n",
      "  b'<!doctype html><html itemscope=\"\" itemtype=\"http://schema.org/WebPage\" lang=\"en-IN\"><head><meta content=\"text/html; charset=UTF-8\" http-equiv=\"Content-Type\"><meta content=\"/images/branding/googleg/1x/googleg_standard_color_128dp.png\" itemprop=\"image\"><title>Google</title><script nonce=\"5bUoM6YD_OzBlzteXdVZ2Q\">(function(){window.google={kEI:\\'pyJBY6WsBImj1sQP3sOVgA8\\',kEXPI:\\'0,202534,1100002,56873,6059,206,4804,2316,383,246,5,5367,1123753,1197733,380757,16109,19403,9287,22431,1361,283,12037,17579,4998,13228,3847,10622,22741,2370,2711,1593,1279,2742,149,1103,840,6297,4120,2023,1777,520,7882,6788,3227,2845,7,4808,20182,4085,4142,553,1851,15756,3,346,230,1014,1,3370,2075,148,11323,2652,4,1528,2304,7039,4887,17136,5708,7357,18095,16786,5827,2530,4094,4052,3,3541,1,42154,2,14022,2715,4931,6470,11623,6700,2380,28741,4569,6255,23421,1252,5835,14967,4333,8,4247,3229,445,2,2,1,17306,7320,2006,8155,7321,60,2,15967,873,14672,166,4796,7,1922,7838,1941,21779,9543,1732,3100,1520,4241,2173,8076,1005,123,700,4,1,2,2,2,2,13916,5134,1415,8324,14,82,950,2940,482,269,202,1866,4939,1685,933,14,37,2133,552,922,613,1328,341,217,256,987,162,338,444,1665,1159,50,167,337,3,1,3,399,499,109,456,38,893,106,880,1472,368,1155,2062,1,950,823,507,637,221,1594,1,370,206,262,3,876,103,111,312,2,609,47,1406,1066,129,1361,403,101,569,469,27,153,661,513,729,235,532,127,1178,351,67,680,1024,51,10,258,47,826,964,1089,186,230,76,623,5329460,75,105,5994721,1023,2803400,3311,141,795,19735,1,1,346,1754,61,13,2,7,2,4,2,37,3,78,7451662,16496859,4042143,1964,3094,13578,3406,11319,1374020,47702\\',kBL:\\'W-mA\\'};google.sn=\\'webhp\\';google.kHL=\\'en-IN\\';})();(function(){\\nvar f=this||self;var h,k=[];function l(a){for(var b;a&&(!a.getAttribute||!(b=a.getAttribute(\"eid\")));)a=a.parentNode;return b||h}function m(a){for(var b=null;a&&(!a.getAttribute||!(b=a.getAttribute(\"leid\")));)a=a.parentNode;return b}\\nfunction n(a,b,c,d,g){var e=\"\";c||-1!==b.search(\"&ei=\")||(e=\"&ei=\"+l(d),-1===b.search(\"&lei=\")&&(d=m(d))&&(e+=\"&lei=\"+d));d=\"\";!c&&f._cshid&&-1===b.search(\"&cshid=\")&&\"slh\"!==a&&(d=\"&cshid=\"+f._cshid);c=c||\"/\"+(g||\"gen_204\")+\"?atyp=i&ct=\"+a+\"&cad=\"+b+e+\"&zx=\"+Date.now()+d;/^http:/i.test(c)&&\"https:\"===window.location.protocol&&(google.ml&&google.ml(Error(\"a\"),!1,{src:c,glmm:1}),c=\"\");return c};h=google.kEI;google.getEI=l;google.getLEI=m;google.ml=function(){return null};google.log=function(a,b,c,d,g){if(c=n(a,b,c,d,g)){a=new Image;var e=k.length;k[e]=a;a.onerror=a.onload=a.onabort=function(){delete k[e]};a.src=c}};google.logUrl=n;}).call(this);(function(){\\ngoogle.y={};google.sy=[];google.x=function(a,b){if(a)var c=a.id;else{do c=Math.random();while(google.y[c])}google.y[c]=[a,b];return!1};google.sx=function(a){google.sy.push(a)};google.lm=[];google.plm=function(a){google.lm.push.apply(google.lm,a)};google.lq=[];google.load=function(a,b,c){google.lq.push([[a],b,c])};google.loadAll=function(a,b){google.lq.push([a,b])};google.bx=!1;google.lx=function(){};}).call(this);google.f={};(function(){\\ndocument.documentElement.addEventListener(\"submit\",function(b){var a;if(a=b.target){var c=a.getAttribute(\"data-submitfalse\");a=\"1\"===c||\"q\"===c&&!a.elements.q.value?!0:!1}else a=!1;a&&(b.preventDefault(),b.stopPropagation())},!0);document.documentElement.addEventListener(\"click\",function(b){var a;a:{for(a=b.target;a&&a!==document.documentElement;a=a.parentElement)if(\"A\"===a.tagName){a=\"1\"===a.getAttribute(\"data-nohref\");break a}a=!1}a&&b.preventDefault()},!0);}).call(this);</script><style>#gbar,#guser{font-size:13px;padding-top:1px !important;}#gbar{height:22px}#guser{padding-bottom:7px !important;text-align:right}.gbh,.gbd{border-top:1px solid #c9d7f1;font-size:1px}.gbh{height:0;position:absolute;top:24px;width:100%}@media all{.gb1{height:22px;margin-right:.5em;vertical-align:top}#gbar{float:left}}a.gb1,a.gb4{text-decoration:underline !important}a.gb1,a.gb4{color:#00c !important}.gbi .gb4{color:#dd8e27 !important}.gbf .gb4{color:#900 !important}\\n</style><style>body,td,a,p,.h{font-family:arial,sans-serif}body{margin:0;overflow-y:scroll}#gog{padding:3px 8px 0}td{line-height:.8em}.gac_m td{line-height:17px}form{margin-bottom:20px}.h{color:#1558d6}em{font-weight:bold;font-style:normal}.lst{height:25px;width:496px}.gsfi,.lst{font:18px arial,sans-serif}.gsfs{font:17px arial,sans-serif}.ds{display:inline-box;display:inline-block;margin:3px 0 4px;margin-left:4px}input{font-family:inherit}body{background:#fff;color:#000}a{color:#4b11a8;text-decoration:none}a:hover,a:active{text-decoration:underline}.fl a{color:#1558d6}a:visited{color:#4b11a8}.sblc{padding-top:5px}.sblc a{display:block;margin:2px 0;margin-left:13px;font-size:11px}.lsbb{background:#f8f9fa;border:solid 1px;border-color:#dadce0 #70757a #70757a #dadce0;height:30px}.lsbb{display:block}#WqQANb a{display:inline-block;margin:0 12px}.lsb{background:url(/images/nav_logo229.png) 0 -261px repeat-x;border:none;color:#000;cursor:pointer;height:30px;margin:0;outline:0;font:15px arial,sans-serif;vertical-align:top}.lsb:active{background:#dadce0}.lst:focus{outline:none}</style><script nonce=\"5bUoM6YD_OzBlzteXdVZ2Q\">(function(){window.google.erd={jsr:1,bv:1667,de:true};\\nvar h=this||self;var k,l=null!=(k=h.mei)?k:1,n,p=null!=(n=h.sdo)?n:!0,q=0,r,t=google.erd,v=t.jsr;google.ml=function(a,b,d,m,e){e=void 0===e?2:e;b&&(r=a&&a.message);if(google.dl)return google.dl(a,e,d),null;if(0>v){window.console&&console.error(a,d);if(-2===v)throw a;b=!1}else b=!a||!a.message||\"Error loading script\"===a.message||q>=l&&!m?!1:!0;if(!b)return null;q++;d=d||{};b=encodeURIComponent;var c=\"/gen_204?atyp=i&ei=\"+b(google.kEI);google.kEXPI&&(c+=\"&jexpid=\"+b(google.kEXPI));c+=\"&srcpg=\"+b(google.sn)+\"&jsr=\"+b(t.jsr)+\"&bver=\"+b(t.bv);var f=a.lineNumber;void 0!==f&&(c+=\"&line=\"+f);var g=\\na.fileName;g&&(0<g.indexOf(\"-extension:/\")&&(e=3),c+=\"&script=\"+b(g),f&&g===window.location.href&&(f=document.documentElement.outerHTML.split(\"\\\\n\")[f],c+=\"&cad=\"+b(f?f.substring(0,300):\"No script found.\")));c+=\"&jsel=\"+e;for(var u in d)c+=\"&\",c+=b(u),c+=\"=\",c+=b(d[u]);c=c+\"&emsg=\"+b(a.name+\": \"+a.message);c=c+\"&jsst=\"+b(a.stack||\"N/A\");12288<=c.length&&(c=c.substr(0,12288));a=c;m||google.log(0,\"\",a);return a};window.onerror=function(a,b,d,m,e){r!==a&&(a=e instanceof Error?e:Error(a),void 0===d||\"lineNumber\"in a||(a.lineNumber=d),void 0===b||\"fileName\"in a||(a.fileName=b),google.ml(a,!1,void 0,!1,\"SyntaxError\"===a.name||\"SyntaxError\"===a.message.substring(0,11)||-1!==a.message.indexOf(\"Script error\")?2:0));r=null;p&&q>=l&&(window.onerror=null)};})();</script></head><body bgcolor=\"#fff\"><script nonce=\"5bUoM6YD_OzBlzteXdVZ2Q\">(function(){var src=\\'/images/nav_logo229.png\\';var iesg=false;document.body.onload = function(){window.n && window.n();if (document.images){new Image().src=src;}\\nif (!iesg){document.f&&document.f.q.focus();document.gbqf&&document.gbqf.q.focus();}\\n}\\n})();</script><div id=\"mngb\"><div id=gbar><nobr><b class=gb1>Search</b> <a class=gb1 href=\"https://www.google.co.in/imghp?hl=en&tab=wi\">Images</a> <a class=gb1 href=\"https://maps.google.co.in/maps?hl=en&tab=wl\">Maps</a> <a class=gb1 href=\"https://play.google.com/?hl=en&tab=w8\">Play</a> <a class=gb1 href=\"https://www.youtube.com/?tab=w1\">YouTube</a> <a class=gb1 href=\"https://news.google.com/?tab=wn\">News</a> <a class=gb1 href=\"https://mail.google.com/mail/?tab=wm\">Gmail</a> <a class=gb1 href=\"https://drive.google.com/?tab=wo\">Drive</a> <a class=gb1 style=\"text-decoration:none\" href=\"https://www.google.co.in/intl/en/about/products?tab=wh\"><u>More</u> &raquo;</a></nobr></div><div id=guser width=100%><nobr><span id=gbn class=gbi></span><span id=gbf class=gbf></span><span id=gbe></span><a href=\"http://www.google.co.in/history/optout?hl=en\" class=gb4>Web History</a> | <a  href=\"/preferences?hl=en\" class=gb4>Settings</a> | <a target=_top id=gb_70 href=\"https://accounts.google.com/ServiceLogin?hl=en&passive=true&continue=https://www.google.com/&ec=GAZAAQ\" class=gb4>Sign in</a></nobr></div><div class=gbh style=left:0></div><div class=gbh style=right:0></div></div><center><br clear=\"all\" id=\"lgpd\"><div id=\"lga\"><img alt=\"Google\" height=\"92\" src=\"/images/branding/googlelogo/1x/googlelogo_white_background_color_272x92dp.png\" style=\"padding:28px 0 14px\" width=\"272\" id=\"hplogo\"><br><br></div><form action=\"/search\" name=\"f\"><table cellpadding=\"0\" cellspacing=\"0\"><tr valign=\"top\"><td width=\"25%\">&nbsp;</td><td align=\"center\" nowrap=\"\"><input name=\"ie\" value=\"ISO-8859-1\" type=\"hidden\"><input value=\"en-IN\" name=\"hl\" type=\"hidden\"><input name=\"source\" type=\"hidden\" value=\"hp\"><input name=\"biw\" type=\"hidden\"><input name=\"bih\" type=\"hidden\"><div class=\"ds\" style=\"height:32px;margin:4px 0\"><input class=\"lst\" style=\"margin:0;padding:5px 8px 0 6px;vertical-align:top;color:#000\" autocomplete=\"off\" value=\"\" title=\"Google Search\" maxlength=\"2048\" name=\"q\" size=\"57\"></div><br style=\"line-height:0\"><span class=\"ds\"><span class=\"lsbb\"><input class=\"lsb\" value=\"Google Search\" name=\"btnG\" type=\"submit\"></span></span><span class=\"ds\"><span class=\"lsbb\"><input class=\"lsb\" id=\"tsuid_1\" value=\"I\\'m Feeling Lucky\" name=\"btnI\" type=\"submit\"><script nonce=\"5bUoM6YD_OzBlzteXdVZ2Q\">(function(){var id=\\'tsuid_1\\';document.getElementById(id).onclick = function(){if (this.form.q.value){this.checked = 1;if (this.form.iflsig)this.form.iflsig.disabled = false;}\\nelse top.location=\\'/doodles/\\';};})();</script><input value=\"AJiK0e8AAAAAY0EwtygUXc-cvk8a2zKcoMBcb7GHkdeS\" name=\"iflsig\" type=\"hidden\"></span></span></td><td class=\"fl sblc\" align=\"left\" nowrap=\"\" width=\"25%\"><a href=\"/advanced_search?hl=en-IN&amp;authuser=0\">Advanced search</a></td></tr></table><input id=\"gbv\" name=\"gbv\" type=\"hidden\" value=\"1\"><script nonce=\"5bUoM6YD_OzBlzteXdVZ2Q\">(function(){\\nvar a,b=\"1\";if(document&&document.getElementById)if(\"undefined\"!=typeof XMLHttpRequest)b=\"2\";else if(\"undefined\"!=typeof ActiveXObject){var c,d,e=[\"MSXML2.XMLHTTP.6.0\",\"MSXML2.XMLHTTP.3.0\",\"MSXML2.XMLHTTP\",\"Microsoft.XMLHTTP\"];for(c=0;d=e[c++];)try{new ActiveXObject(d),b=\"2\"}catch(h){}}a=b;if(\"2\"==a&&-1==location.search.indexOf(\"&gbv=2\")){var f=google.gbvu,g=document.getElementById(\"gbv\");g&&(g.value=a);f&&window.setTimeout(function(){location.href=f},0)};}).call(this);</script></form><div id=\"gac_scont\"></div><div style=\"font-size:83%;min-height:3.5em\"><br><div id=\"gws-output-pages-elements-homepage_additional_languages__als\"><style>#gws-output-pages-elements-homepage_additional_languages__als{font-size:small;margin-bottom:24px}#SIvCob{color:#3c4043;display:inline-block;line-height:28px;}#SIvCob a{padding:0 3px;}.H6sW5{display:inline-block;margin:0 2px;white-space:nowrap}.z4hgWe{display:inline-block;margin:0 2px}</style><div id=\"SIvCob\">Google offered in:  <a href=\"https://www.google.com/setprefs?sig=0_zUjUxsl6-O0Xjivctaq-h8yCxFA%3D&amp;hl=hi&amp;source=homepage&amp;sa=X&amp;ved=0ahUKEwjlm4eYitD6AhWJkZUCHd5hBfAQ2ZgBCAU\">&#2361;&#2367;&#2344;&#2381;&#2342;&#2368;</a>    <a href=\"https://www.google.com/setprefs?sig=0_zUjUxsl6-O0Xjivctaq-h8yCxFA%3D&amp;hl=bn&amp;source=homepage&amp;sa=X&amp;ved=0ahUKEwjlm4eYitD6AhWJkZUCHd5hBfAQ2ZgBCAY\">&#2476;&#2494;&#2434;&#2482;&#2494;</a>    <a href=\"https://www.google.com/setprefs?sig=0_zUjUxsl6-O0Xjivctaq-h8yCxFA%3D&amp;hl=te&amp;source=homepage&amp;sa=X&amp;ved=0ahUKEwjlm4eYitD6AhWJkZUCHd5hBfAQ2ZgBCAc\">&#3108;&#3142;&#3122;&#3137;&#3095;&#3137;</a>    <a href=\"https://www.google.com/setprefs?sig=0_zUjUxsl6-O0Xjivctaq-h8yCxFA%3D&amp;hl=mr&amp;source=homepage&amp;sa=X&amp;ved=0ahUKEwjlm4eYitD6AhWJkZUCHd5hBfAQ2ZgBCAg\">&#2350;&#2352;&#2366;&#2336;&#2368;</a>    <a href=\"https://www.google.com/setprefs?sig=0_zUjUxsl6-O0Xjivctaq-h8yCxFA%3D&amp;hl=ta&amp;source=homepage&amp;sa=X&amp;ved=0ahUKEwjlm4eYitD6AhWJkZUCHd5hBfAQ2ZgBCAk\">&#2980;&#2990;&#3007;&#2996;&#3021;</a>    <a href=\"https://www.google.com/setprefs?sig=0_zUjUxsl6-O0Xjivctaq-h8yCxFA%3D&amp;hl=gu&amp;source=homepage&amp;sa=X&amp;ved=0ahUKEwjlm4eYitD6AhWJkZUCHd5hBfAQ2ZgBCAo\">&#2711;&#2753;&#2716;&#2736;&#2750;&#2724;&#2752;</a>    <a href=\"https://www.google.com/setprefs?sig=0_zUjUxsl6-O0Xjivctaq-h8yCxFA%3D&amp;hl=kn&amp;source=homepage&amp;sa=X&amp;ved=0ahUKEwjlm4eYitD6AhWJkZUCHd5hBfAQ2ZgBCAs\">&#3221;&#3240;&#3277;&#3240;&#3233;</a>    <a href=\"https://www.google.com/setprefs?sig=0_zUjUxsl6-O0Xjivctaq-h8yCxFA%3D&amp;hl=ml&amp;source=homepage&amp;sa=X&amp;ved=0ahUKEwjlm4eYitD6AhWJkZUCHd5hBfAQ2ZgBCAw\">&#3374;&#3378;&#3375;&#3390;&#3379;&#3330;</a>    <a href=\"https://www.google.com/setprefs?sig=0_zUjUxsl6-O0Xjivctaq-h8yCxFA%3D&amp;hl=pa&amp;source=homepage&amp;sa=X&amp;ved=0ahUKEwjlm4eYitD6AhWJkZUCHd5hBfAQ2ZgBCA0\">&#2602;&#2672;&#2588;&#2622;&#2604;&#2624;</a>  </div></div></div><span id=\"footer\"><div style=\"font-size:10pt\"><div style=\"margin:19px auto;text-align:center\" id=\"WqQANb\"><a href=\"/intl/en/ads/\">Advertising\\xa0Programs</a><a href=\"http://www.google.co.in/services/\">Business Solutions</a><a href=\"/intl/en/about.html\">About Google</a><a href=\"https://www.google.com/setprefdomain?prefdom=IN&amp;prev=https://www.google.co.in/&amp;sig=K_f9nTGE2saWrhdWlX9sTEKM8fbc4%3D\">Google.co.in</a></div></div><p style=\"font-size:8pt;color:#70757a\">&copy; 2022 - <a href=\"/intl/en/policies/privacy/\">Privacy</a> - <a href=\"/intl/en/policies/terms/\">Terms</a></p></span></center><script nonce=\"5bUoM6YD_OzBlzteXdVZ2Q\">(function(){window.google.cdo={height:757,width:1440};(function(){\\nvar a=window.innerWidth,b=window.innerHeight;if(!a||!b){var c=window.document,d=\"CSS1Compat\"==c.compatMode?c.documentElement:c.body;a=d.clientWidth;b=d.clientHeight}a&&b&&(a!=google.cdo.width||b!=google.cdo.height)&&google.log(\"\",\"\",\"/client_204?&atyp=i&biw=\"+a+\"&bih=\"+b+\"&ei=\"+google.kEI);}).call(this);})();</script> <script nonce=\"5bUoM6YD_OzBlzteXdVZ2Q\">(function(){google.xjs={ck:\\'xjs.hp.iHfCprUw_lc.L.X.O\\',cs:\\'ACT90oGei-nfZZwMuaPOURdN-F7eyOqzlg\\',excm:[]};})();</script>  <script nonce=\"5bUoM6YD_OzBlzteXdVZ2Q\">(function(){var u=\\'/xjs/_/js/k\\\\x3dxjs.hp.en.Uvii2hayh4I.O/am\\\\x3dAAB0AgBQAKAC/d\\\\x3d1/ed\\\\x3d1/rs\\\\x3dACT90oHsqV6QfDspXHlyHPQ3cb1bSFR5Aw/m\\\\x3dsb_he,d\\';\\nvar d=this||self,e=function(a){return a};\\nvar g;var l=function(a,b){this.g=b===h?a:\"\"};l.prototype.toString=function(){return this.g+\"\"};var h={};function n(){var a=u;google.lx=function(){p(a);google.lx=function(){}};google.bx||google.lx()}\\nfunction p(a){google.timers&&google.timers.load&&google.tick&&google.tick(\"load\",\"xjsls\");var b=document;var c=\"SCRIPT\";\"application/xhtml+xml\"===b.contentType&&(c=c.toLowerCase());c=b.createElement(c);if(void 0===g){b=null;var k=d.trustedTypes;if(k&&k.createPolicy){try{b=k.createPolicy(\"goog#html\",{createHTML:e,createScript:e,createScriptURL:e})}catch(q){d.console&&d.console.error(q.message)}g=b}else g=b}a=(b=g)?b.createScriptURL(a):a;a=new l(a,h);c.src=a instanceof l&&a.constructor===l?a.g:\"type_error:TrustedResourceUrl\";var f,m;(f=(a=null==(m=(f=(c.ownerDocument&&c.ownerDocument.defaultView||window).document).querySelector)?void 0:m.call(f,\"script[nonce]\"))?a.nonce||a.getAttribute(\"nonce\")||\"\":\"\")&&c.setAttribute(\"nonce\",f);document.body.appendChild(c);google.psa=!0};google.xjsu=u;setTimeout(function(){n()},0);})();function _DumpException(e){throw e;}\\nfunction _F_installCss(c){}\\n(function(){google.jl={blt:\\'none\\',chnk:0,dw:false,dwu:true,emtn:0,end:0,ine:false,injs:\\'none\\',injt:0,injth:0,injv2:false,lls:\\'default\\',pdt:0,rep:0,snet:true,strt:0,ubm:false,uwp:true};})();(function(){var pmc=\\'{\\\\x22d\\\\x22:{},\\\\x22sb_he\\\\x22:{\\\\x22agen\\\\x22:true,\\\\x22cgen\\\\x22:true,\\\\x22client\\\\x22:\\\\x22heirloom-hp\\\\x22,\\\\x22dh\\\\x22:true,\\\\x22dhqt\\\\x22:true,\\\\x22ds\\\\x22:\\\\x22\\\\x22,\\\\x22ffql\\\\x22:\\\\x22en\\\\x22,\\\\x22fl\\\\x22:true,\\\\x22host\\\\x22:\\\\x22google.com\\\\x22,\\\\x22isbh\\\\x22:28,\\\\x22jsonp\\\\x22:true,\\\\x22msgs\\\\x22:{\\\\x22cibl\\\\x22:\\\\x22Clear Search\\\\x22,\\\\x22dym\\\\x22:\\\\x22Did you mean:\\\\x22,\\\\x22lcky\\\\x22:\\\\x22I\\\\\\\\u0026#39;m Feeling Lucky\\\\x22,\\\\x22lml\\\\x22:\\\\x22Learn more\\\\x22,\\\\x22oskt\\\\x22:\\\\x22Input tools\\\\x22,\\\\x22psrc\\\\x22:\\\\x22This search was removed from your \\\\\\\\u003Ca href\\\\x3d\\\\\\\\\\\\x22/history\\\\\\\\\\\\x22\\\\\\\\u003EWeb History\\\\\\\\u003C/a\\\\\\\\u003E\\\\x22,\\\\x22psrl\\\\x22:\\\\x22Remove\\\\x22,\\\\x22sbit\\\\x22:\\\\x22Search by image\\\\x22,\\\\x22srch\\\\x22:\\\\x22Google Search\\\\x22},\\\\x22ovr\\\\x22:{},\\\\x22pq\\\\x22:\\\\x22\\\\x22,\\\\x22refpd\\\\x22:true,\\\\x22rfs\\\\x22:[],\\\\x22sbas\\\\x22:\\\\x220 3px 8px 0 rgba(0,0,0,0.2),0 0 0 1px rgba(0,0,0,0.08)\\\\x22,\\\\x22sbpl\\\\x22:16,\\\\x22sbpr\\\\x22:16,\\\\x22scd\\\\x22:10,\\\\x22stok\\\\x22:\\\\x22kCJzVLYLu-WOUm9xUDwBqaiG3Hw\\\\x22,\\\\x22uhde\\\\x22:false}}\\';google.pmc=JSON.parse(pmc);})();</script>        </body></html>'\n"
     ]
    }
   ],
   "source": [
    "import requests\n",
    "from bs4 import BeautifulSoup\n",
    "\n",
    "results = requests.get(\"https://www.google.com/\")\n",
    "print(results.status_code)\n",
    "# Meta-data & other heading information\n",
    "print(results.headers)\n",
    "src = results.content\n",
    "print(\"\\n\\n \",src)"
   ]
  },
  {
   "cell_type": "code",
   "execution_count": 4,
   "id": "506dcc32",
   "metadata": {},
   "outputs": [
    {
     "name": "stdout",
     "output_type": "stream",
     "text": [
      "<a class=\"gb1\" href=\"https://www.google.co.in/imghp?hl=en&amp;tab=wi\">Images</a>\n",
      "[<a class=\"gb1\" href=\"https://www.google.co.in/imghp?hl=en&amp;tab=wi\">Images</a>, <a class=\"gb1\" href=\"https://maps.google.co.in/maps?hl=en&amp;tab=wl\">Maps</a>, <a class=\"gb1\" href=\"https://play.google.com/?hl=en&amp;tab=w8\">Play</a>, <a class=\"gb1\" href=\"https://www.youtube.com/?tab=w1\">YouTube</a>, <a class=\"gb1\" href=\"https://news.google.com/?tab=wn\">News</a>, <a class=\"gb1\" href=\"https://mail.google.com/mail/?tab=wm\">Gmail</a>, <a class=\"gb1\" href=\"https://drive.google.com/?tab=wo\">Drive</a>, <a class=\"gb1\" href=\"https://www.google.co.in/intl/en/about/products?tab=wh\" style=\"text-decoration:none\"><u>More</u> »</a>, <a class=\"gb4\" href=\"http://www.google.co.in/history/optout?hl=en\">Web History</a>, <a class=\"gb4\" href=\"/preferences?hl=en\">Settings</a>, <a class=\"gb4\" href=\"https://accounts.google.com/ServiceLogin?hl=en&amp;passive=true&amp;continue=https://www.google.com/&amp;ec=GAZAAQ\" id=\"gb_70\" target=\"_top\">Sign in</a>, <a href=\"/advanced_search?hl=en-IN&amp;authuser=0\">Advanced search</a>, <a href=\"https://www.google.com/setprefs?sig=0_ze1UCZyCDVs2RYleuxudSKpXnRM%3D&amp;hl=hi&amp;source=homepage&amp;sa=X&amp;ved=0ahUKEwjf-KDPitD6AhUJrZUCHU66CAEQ2ZgBCAU\">हिन्दी</a>, <a href=\"https://www.google.com/setprefs?sig=0_ze1UCZyCDVs2RYleuxudSKpXnRM%3D&amp;hl=bn&amp;source=homepage&amp;sa=X&amp;ved=0ahUKEwjf-KDPitD6AhUJrZUCHU66CAEQ2ZgBCAY\">বাংলা</a>, <a href=\"https://www.google.com/setprefs?sig=0_ze1UCZyCDVs2RYleuxudSKpXnRM%3D&amp;hl=te&amp;source=homepage&amp;sa=X&amp;ved=0ahUKEwjf-KDPitD6AhUJrZUCHU66CAEQ2ZgBCAc\">తెలుగు</a>, <a href=\"https://www.google.com/setprefs?sig=0_ze1UCZyCDVs2RYleuxudSKpXnRM%3D&amp;hl=mr&amp;source=homepage&amp;sa=X&amp;ved=0ahUKEwjf-KDPitD6AhUJrZUCHU66CAEQ2ZgBCAg\">मराठी</a>, <a href=\"https://www.google.com/setprefs?sig=0_ze1UCZyCDVs2RYleuxudSKpXnRM%3D&amp;hl=ta&amp;source=homepage&amp;sa=X&amp;ved=0ahUKEwjf-KDPitD6AhUJrZUCHU66CAEQ2ZgBCAk\">தமிழ்</a>, <a href=\"https://www.google.com/setprefs?sig=0_ze1UCZyCDVs2RYleuxudSKpXnRM%3D&amp;hl=gu&amp;source=homepage&amp;sa=X&amp;ved=0ahUKEwjf-KDPitD6AhUJrZUCHU66CAEQ2ZgBCAo\">ગુજરાતી</a>, <a href=\"https://www.google.com/setprefs?sig=0_ze1UCZyCDVs2RYleuxudSKpXnRM%3D&amp;hl=kn&amp;source=homepage&amp;sa=X&amp;ved=0ahUKEwjf-KDPitD6AhUJrZUCHU66CAEQ2ZgBCAs\">ಕನ್ನಡ</a>, <a href=\"https://www.google.com/setprefs?sig=0_ze1UCZyCDVs2RYleuxudSKpXnRM%3D&amp;hl=ml&amp;source=homepage&amp;sa=X&amp;ved=0ahUKEwjf-KDPitD6AhUJrZUCHU66CAEQ2ZgBCAw\">മലയാളം</a>, <a href=\"https://www.google.com/setprefs?sig=0_ze1UCZyCDVs2RYleuxudSKpXnRM%3D&amp;hl=pa&amp;source=homepage&amp;sa=X&amp;ved=0ahUKEwjf-KDPitD6AhUJrZUCHU66CAEQ2ZgBCA0\">ਪੰਜਾਬੀ</a>, <a href=\"/intl/en/ads/\">Advertising Programs</a>, <a href=\"http://www.google.co.in/services/\">Business Solutions</a>, <a href=\"/intl/en/about.html\">About Google</a>, <a href=\"https://www.google.com/setprefdomain?prefdom=IN&amp;prev=https://www.google.co.in/&amp;sig=K_iGHzb_oiSCnRm806qMy8LBZbsLg%3D\">Google.co.in</a>, <a href=\"/intl/en/policies/privacy/\">Privacy</a>, <a href=\"/intl/en/policies/terms/\">Terms</a>]\n"
     ]
    }
   ],
   "source": [
    "result = requests.get(\"https://www.google.com/\")\n",
    "src = result.content\n",
    "# 'html.parser'\n",
    "soup = BeautifulSoup(src, 'lxml')\n",
    "\n",
    "link = soup.find('a')\n",
    "print(link)\n",
    "\n",
    "link = soup.find_all('a')\n",
    "print(link)"
   ]
  },
  {
   "cell_type": "code",
   "execution_count": 5,
   "id": "0d3df980",
   "metadata": {},
   "outputs": [
    {
     "name": "stdout",
     "output_type": "stream",
     "text": [
      "[<div id=\"mngb\"><div id=\"gbar\"><nobr><b class=\"gb1\">Search</b> <a class=\"gb1\" href=\"https://www.google.co.in/imghp?hl=en&amp;tab=wi\">Images</a> <a class=\"gb1\" href=\"https://maps.google.co.in/maps?hl=en&amp;tab=wl\">Maps</a> <a class=\"gb1\" href=\"https://play.google.com/?hl=en&amp;tab=w8\">Play</a> <a class=\"gb1\" href=\"https://www.youtube.com/?tab=w1\">YouTube</a> <a class=\"gb1\" href=\"https://news.google.com/?tab=wn\">News</a> <a class=\"gb1\" href=\"https://mail.google.com/mail/?tab=wm\">Gmail</a> <a class=\"gb1\" href=\"https://drive.google.com/?tab=wo\">Drive</a> <a class=\"gb1\" href=\"https://www.google.co.in/intl/en/about/products?tab=wh\" style=\"text-decoration:none\"><u>More</u> »</a></nobr></div><div id=\"guser\" width=\"100%\"><nobr><span class=\"gbi\" id=\"gbn\"></span><span class=\"gbf\" id=\"gbf\"></span><span id=\"gbe\"></span><a class=\"gb4\" href=\"http://www.google.co.in/history/optout?hl=en\">Web History</a> | <a class=\"gb4\" href=\"/preferences?hl=en\">Settings</a> | <a class=\"gb4\" href=\"https://accounts.google.com/ServiceLogin?hl=en&amp;passive=true&amp;continue=https://www.google.com/&amp;ec=GAZAAQ\" id=\"gb_70\" target=\"_top\">Sign in</a></nobr></div><div class=\"gbh\" style=\"left:0\"></div><div class=\"gbh\" style=\"right:0\"></div></div>, <div id=\"gbar\"><nobr><b class=\"gb1\">Search</b> <a class=\"gb1\" href=\"https://www.google.co.in/imghp?hl=en&amp;tab=wi\">Images</a> <a class=\"gb1\" href=\"https://maps.google.co.in/maps?hl=en&amp;tab=wl\">Maps</a> <a class=\"gb1\" href=\"https://play.google.com/?hl=en&amp;tab=w8\">Play</a> <a class=\"gb1\" href=\"https://www.youtube.com/?tab=w1\">YouTube</a> <a class=\"gb1\" href=\"https://news.google.com/?tab=wn\">News</a> <a class=\"gb1\" href=\"https://mail.google.com/mail/?tab=wm\">Gmail</a> <a class=\"gb1\" href=\"https://drive.google.com/?tab=wo\">Drive</a> <a class=\"gb1\" href=\"https://www.google.co.in/intl/en/about/products?tab=wh\" style=\"text-decoration:none\"><u>More</u> »</a></nobr></div>, <div id=\"guser\" width=\"100%\"><nobr><span class=\"gbi\" id=\"gbn\"></span><span class=\"gbf\" id=\"gbf\"></span><span id=\"gbe\"></span><a class=\"gb4\" href=\"http://www.google.co.in/history/optout?hl=en\">Web History</a> | <a class=\"gb4\" href=\"/preferences?hl=en\">Settings</a> | <a class=\"gb4\" href=\"https://accounts.google.com/ServiceLogin?hl=en&amp;passive=true&amp;continue=https://www.google.com/&amp;ec=GAZAAQ\" id=\"gb_70\" target=\"_top\">Sign in</a></nobr></div>, <div class=\"gbh\" style=\"left:0\"></div>, <div class=\"gbh\" style=\"right:0\"></div>, <div id=\"lga\"><img alt=\"Google\" height=\"92\" id=\"hplogo\" src=\"/images/branding/googlelogo/1x/googlelogo_white_background_color_272x92dp.png\" style=\"padding:28px 0 14px\" width=\"272\"/><br/><br/></div>, <div class=\"ds\" style=\"height:32px;margin:4px 0\"><input autocomplete=\"off\" class=\"lst\" maxlength=\"2048\" name=\"q\" size=\"57\" style=\"margin:0;padding:5px 8px 0 6px;vertical-align:top;color:#000\" title=\"Google Search\" value=\"\"/></div>, <div id=\"gac_scont\"></div>, <div style=\"font-size:83%;min-height:3.5em\"><br/><div id=\"gws-output-pages-elements-homepage_additional_languages__als\"><style>#gws-output-pages-elements-homepage_additional_languages__als{font-size:small;margin-bottom:24px}#SIvCob{color:#3c4043;display:inline-block;line-height:28px;}#SIvCob a{padding:0 3px;}.H6sW5{display:inline-block;margin:0 2px;white-space:nowrap}.z4hgWe{display:inline-block;margin:0 2px}</style><div id=\"SIvCob\">Google offered in:  <a href=\"https://www.google.com/setprefs?sig=0_ze1UCZyCDVs2RYleuxudSKpXnRM%3D&amp;hl=hi&amp;source=homepage&amp;sa=X&amp;ved=0ahUKEwjf-KDPitD6AhUJrZUCHU66CAEQ2ZgBCAU\">हिन्दी</a> <a href=\"https://www.google.com/setprefs?sig=0_ze1UCZyCDVs2RYleuxudSKpXnRM%3D&amp;hl=bn&amp;source=homepage&amp;sa=X&amp;ved=0ahUKEwjf-KDPitD6AhUJrZUCHU66CAEQ2ZgBCAY\">বাংলা</a> <a href=\"https://www.google.com/setprefs?sig=0_ze1UCZyCDVs2RYleuxudSKpXnRM%3D&amp;hl=te&amp;source=homepage&amp;sa=X&amp;ved=0ahUKEwjf-KDPitD6AhUJrZUCHU66CAEQ2ZgBCAc\">తెలుగు</a> <a href=\"https://www.google.com/setprefs?sig=0_ze1UCZyCDVs2RYleuxudSKpXnRM%3D&amp;hl=mr&amp;source=homepage&amp;sa=X&amp;ved=0ahUKEwjf-KDPitD6AhUJrZUCHU66CAEQ2ZgBCAg\">मराठी</a> <a href=\"https://www.google.com/setprefs?sig=0_ze1UCZyCDVs2RYleuxudSKpXnRM%3D&amp;hl=ta&amp;source=homepage&amp;sa=X&amp;ved=0ahUKEwjf-KDPitD6AhUJrZUCHU66CAEQ2ZgBCAk\">தமிழ்</a> <a href=\"https://www.google.com/setprefs?sig=0_ze1UCZyCDVs2RYleuxudSKpXnRM%3D&amp;hl=gu&amp;source=homepage&amp;sa=X&amp;ved=0ahUKEwjf-KDPitD6AhUJrZUCHU66CAEQ2ZgBCAo\">ગુજરાતી</a> <a href=\"https://www.google.com/setprefs?sig=0_ze1UCZyCDVs2RYleuxudSKpXnRM%3D&amp;hl=kn&amp;source=homepage&amp;sa=X&amp;ved=0ahUKEwjf-KDPitD6AhUJrZUCHU66CAEQ2ZgBCAs\">ಕನ್ನಡ</a> <a href=\"https://www.google.com/setprefs?sig=0_ze1UCZyCDVs2RYleuxudSKpXnRM%3D&amp;hl=ml&amp;source=homepage&amp;sa=X&amp;ved=0ahUKEwjf-KDPitD6AhUJrZUCHU66CAEQ2ZgBCAw\">മലയാളം</a> <a href=\"https://www.google.com/setprefs?sig=0_ze1UCZyCDVs2RYleuxudSKpXnRM%3D&amp;hl=pa&amp;source=homepage&amp;sa=X&amp;ved=0ahUKEwjf-KDPitD6AhUJrZUCHU66CAEQ2ZgBCA0\">ਪੰਜਾਬੀ</a> </div></div></div>, <div id=\"gws-output-pages-elements-homepage_additional_languages__als\"><style>#gws-output-pages-elements-homepage_additional_languages__als{font-size:small;margin-bottom:24px}#SIvCob{color:#3c4043;display:inline-block;line-height:28px;}#SIvCob a{padding:0 3px;}.H6sW5{display:inline-block;margin:0 2px;white-space:nowrap}.z4hgWe{display:inline-block;margin:0 2px}</style><div id=\"SIvCob\">Google offered in:  <a href=\"https://www.google.com/setprefs?sig=0_ze1UCZyCDVs2RYleuxudSKpXnRM%3D&amp;hl=hi&amp;source=homepage&amp;sa=X&amp;ved=0ahUKEwjf-KDPitD6AhUJrZUCHU66CAEQ2ZgBCAU\">हिन्दी</a> <a href=\"https://www.google.com/setprefs?sig=0_ze1UCZyCDVs2RYleuxudSKpXnRM%3D&amp;hl=bn&amp;source=homepage&amp;sa=X&amp;ved=0ahUKEwjf-KDPitD6AhUJrZUCHU66CAEQ2ZgBCAY\">বাংলা</a> <a href=\"https://www.google.com/setprefs?sig=0_ze1UCZyCDVs2RYleuxudSKpXnRM%3D&amp;hl=te&amp;source=homepage&amp;sa=X&amp;ved=0ahUKEwjf-KDPitD6AhUJrZUCHU66CAEQ2ZgBCAc\">తెలుగు</a> <a href=\"https://www.google.com/setprefs?sig=0_ze1UCZyCDVs2RYleuxudSKpXnRM%3D&amp;hl=mr&amp;source=homepage&amp;sa=X&amp;ved=0ahUKEwjf-KDPitD6AhUJrZUCHU66CAEQ2ZgBCAg\">मराठी</a> <a href=\"https://www.google.com/setprefs?sig=0_ze1UCZyCDVs2RYleuxudSKpXnRM%3D&amp;hl=ta&amp;source=homepage&amp;sa=X&amp;ved=0ahUKEwjf-KDPitD6AhUJrZUCHU66CAEQ2ZgBCAk\">தமிழ்</a> <a href=\"https://www.google.com/setprefs?sig=0_ze1UCZyCDVs2RYleuxudSKpXnRM%3D&amp;hl=gu&amp;source=homepage&amp;sa=X&amp;ved=0ahUKEwjf-KDPitD6AhUJrZUCHU66CAEQ2ZgBCAo\">ગુજરાતી</a> <a href=\"https://www.google.com/setprefs?sig=0_ze1UCZyCDVs2RYleuxudSKpXnRM%3D&amp;hl=kn&amp;source=homepage&amp;sa=X&amp;ved=0ahUKEwjf-KDPitD6AhUJrZUCHU66CAEQ2ZgBCAs\">ಕನ್ನಡ</a> <a href=\"https://www.google.com/setprefs?sig=0_ze1UCZyCDVs2RYleuxudSKpXnRM%3D&amp;hl=ml&amp;source=homepage&amp;sa=X&amp;ved=0ahUKEwjf-KDPitD6AhUJrZUCHU66CAEQ2ZgBCAw\">മലയാളം</a> <a href=\"https://www.google.com/setprefs?sig=0_ze1UCZyCDVs2RYleuxudSKpXnRM%3D&amp;hl=pa&amp;source=homepage&amp;sa=X&amp;ved=0ahUKEwjf-KDPitD6AhUJrZUCHU66CAEQ2ZgBCA0\">ਪੰਜਾਬੀ</a> </div></div>, <div id=\"SIvCob\">Google offered in:  <a href=\"https://www.google.com/setprefs?sig=0_ze1UCZyCDVs2RYleuxudSKpXnRM%3D&amp;hl=hi&amp;source=homepage&amp;sa=X&amp;ved=0ahUKEwjf-KDPitD6AhUJrZUCHU66CAEQ2ZgBCAU\">हिन्दी</a> <a href=\"https://www.google.com/setprefs?sig=0_ze1UCZyCDVs2RYleuxudSKpXnRM%3D&amp;hl=bn&amp;source=homepage&amp;sa=X&amp;ved=0ahUKEwjf-KDPitD6AhUJrZUCHU66CAEQ2ZgBCAY\">বাংলা</a> <a href=\"https://www.google.com/setprefs?sig=0_ze1UCZyCDVs2RYleuxudSKpXnRM%3D&amp;hl=te&amp;source=homepage&amp;sa=X&amp;ved=0ahUKEwjf-KDPitD6AhUJrZUCHU66CAEQ2ZgBCAc\">తెలుగు</a> <a href=\"https://www.google.com/setprefs?sig=0_ze1UCZyCDVs2RYleuxudSKpXnRM%3D&amp;hl=mr&amp;source=homepage&amp;sa=X&amp;ved=0ahUKEwjf-KDPitD6AhUJrZUCHU66CAEQ2ZgBCAg\">मराठी</a> <a href=\"https://www.google.com/setprefs?sig=0_ze1UCZyCDVs2RYleuxudSKpXnRM%3D&amp;hl=ta&amp;source=homepage&amp;sa=X&amp;ved=0ahUKEwjf-KDPitD6AhUJrZUCHU66CAEQ2ZgBCAk\">தமிழ்</a> <a href=\"https://www.google.com/setprefs?sig=0_ze1UCZyCDVs2RYleuxudSKpXnRM%3D&amp;hl=gu&amp;source=homepage&amp;sa=X&amp;ved=0ahUKEwjf-KDPitD6AhUJrZUCHU66CAEQ2ZgBCAo\">ગુજરાતી</a> <a href=\"https://www.google.com/setprefs?sig=0_ze1UCZyCDVs2RYleuxudSKpXnRM%3D&amp;hl=kn&amp;source=homepage&amp;sa=X&amp;ved=0ahUKEwjf-KDPitD6AhUJrZUCHU66CAEQ2ZgBCAs\">ಕನ್ನಡ</a> <a href=\"https://www.google.com/setprefs?sig=0_ze1UCZyCDVs2RYleuxudSKpXnRM%3D&amp;hl=ml&amp;source=homepage&amp;sa=X&amp;ved=0ahUKEwjf-KDPitD6AhUJrZUCHU66CAEQ2ZgBCAw\">മലയാളം</a> <a href=\"https://www.google.com/setprefs?sig=0_ze1UCZyCDVs2RYleuxudSKpXnRM%3D&amp;hl=pa&amp;source=homepage&amp;sa=X&amp;ved=0ahUKEwjf-KDPitD6AhUJrZUCHU66CAEQ2ZgBCA0\">ਪੰਜਾਬੀ</a> </div>, <div style=\"font-size:10pt\"><div id=\"WqQANb\" style=\"margin:19px auto;text-align:center\"><a href=\"/intl/en/ads/\">Advertising Programs</a><a href=\"http://www.google.co.in/services/\">Business Solutions</a><a href=\"/intl/en/about.html\">About Google</a><a href=\"https://www.google.com/setprefdomain?prefdom=IN&amp;prev=https://www.google.co.in/&amp;sig=K_iGHzb_oiSCnRm806qMy8LBZbsLg%3D\">Google.co.in</a></div></div>, <div id=\"WqQANb\" style=\"margin:19px auto;text-align:center\"><a href=\"/intl/en/ads/\">Advertising Programs</a><a href=\"http://www.google.co.in/services/\">Business Solutions</a><a href=\"/intl/en/about.html\">About Google</a><a href=\"https://www.google.com/setprefdomain?prefdom=IN&amp;prev=https://www.google.co.in/&amp;sig=K_iGHzb_oiSCnRm806qMy8LBZbsLg%3D\">Google.co.in</a></div>]\n"
     ]
    }
   ],
   "source": [
    "d = soup.find_all('div')\n",
    "print(d)"
   ]
  },
  {
   "cell_type": "code",
   "execution_count": 7,
   "id": "3cde7548",
   "metadata": {},
   "outputs": [
    {
     "name": "stdout",
     "output_type": "stream",
     "text": [
      "<a href=\"/intl/en/about.html\">About Google</a>\n",
      "/intl/en/about.html\n"
     ]
    }
   ],
   "source": [
    "links = soup.find_all('a')\n",
    "\n",
    "for link in links:\n",
    "    if \"About\" in link.text:\n",
    "        print(link)\n",
    "        print(link.attrs['href'])"
   ]
  },
  {
   "cell_type": "code",
   "execution_count": 8,
   "id": "0d443cbc",
   "metadata": {},
   "outputs": [
    {
     "name": "stdout",
     "output_type": "stream",
     "text": [
      "<html>\n",
      " <head>\n",
      "  <title>\n",
      "   The Doemouse's story\n",
      "  </title>\n",
      " </head>\n",
      " <body>\n",
      "  <p class=\"title\">\n",
      "   <b>\n",
      "    The Dormouse's story\n",
      "   </b>\n",
      "  </p>\n",
      "  <p class=\"story\">\n",
      "   Once upon a time there were three little sisters; their names:\n",
      "   <a class=\"sister\" href=\"http://example.com/elsie\" id=\"link1\">\n",
      "    Elsie\n",
      "   </a>\n",
      "   ,\n",
      "   <a class=\"sister\" href=\"http://example.com/lacie\" id=\"link2\">\n",
      "    Lacie\n",
      "   </a>\n",
      "   and\n",
      "   <a class=\"sister\" href=\"http://example.com/tillie\" id=\"link3\">\n",
      "    Tillie\n",
      "   </a>\n",
      "   ; and they lived at the bottom of a well.\n",
      "  </p>\n",
      "  <p class=\"story\">\n",
      "   ...\n",
      "  </p>\n",
      "  <b class=\"boldset\">\n",
      "   Extremely bold\n",
      "  </b>\n",
      "  <blockquote class=\"boldset\">\n",
      "   Extremely bold\n",
      "  </blockquote>\n",
      "  <b id=\"1\">\n",
      "   Test 1\n",
      "  </b>\n",
      "  <b another-attribute=\"1\" id=\"verybold\">\n",
      "   Test 2\n",
      "  </b>\n",
      " </body>\n",
      "</html>\n",
      "\n"
     ]
    }
   ],
   "source": [
    "html_doc = \"\"\"\n",
    "<html><head><title> The Doemouse's story </title></head><body>\n",
    "<p class=\"title\"><b> The Dormouse's story </b></p>\n",
    "<p class=\"story\"> Once upon a time there were three little sisters; their names: <a href=\"http://example.com/elsie\" class=\"sister\" id=\"link1\"> Elsie </a>, <a href=\"http://example.com/lacie\" class=\"sister\" id=\"link2\"> Lacie </a> and <a href=\"http://example.com/tillie\" class=\"sister\" id=\"link3\"> Tillie </a>; and they lived at the bottom of a well. </p>\n",
    "<p class=\"story\"> ... </p>\n",
    "<b class=\"boldset\"> Extremely bold </b>\n",
    "<blockquote class=\"boldset\"> Extremely bold </blockquote>\n",
    "<b id=\"1\"> Test 1 </b>\n",
    "<b another-attribute=\"1\" id=\"verybold\"> Test 2 </b>\n",
    "</body></html>\n",
    "\"\"\"\n",
    "\n",
    "Soup = BeautifulSoup(html_doc, 'lxml')\n",
    "# print(soup)\n",
    "print(Soup.prettify())"
   ]
  },
  {
   "cell_type": "code",
   "execution_count": 9,
   "id": "94f825da",
   "metadata": {},
   "outputs": [
    {
     "name": "stdout",
     "output_type": "stream",
     "text": [
      "<b> The Dormouse's story </b>\n",
      "<b> The Dormouse's story </b>\n"
     ]
    }
   ],
   "source": [
    "print(Soup.b)\n",
    "print(Soup.find('b'))"
   ]
  },
  {
   "cell_type": "code",
   "execution_count": 10,
   "id": "b67ec3d0",
   "metadata": {},
   "outputs": [
    {
     "name": "stdout",
     "output_type": "stream",
     "text": [
      "[<b> The Dormouse's story </b>, <b class=\"boldset\"> Extremely bold </b>, <b id=\"1\"> Test 1 </b>, <b another-attribute=\"1\" id=\"verybold\"> Test 2 </b>]\n"
     ]
    }
   ],
   "source": [
    "print(Soup.find_all('b'))"
   ]
  },
  {
   "cell_type": "code",
   "execution_count": 11,
   "id": "73620125",
   "metadata": {},
   "outputs": [
    {
     "name": "stdout",
     "output_type": "stream",
     "text": [
      "<b id=\"1\"> Test 1 </b>\n"
     ]
    }
   ],
   "source": [
    "ele = Soup.find_all('b')[2]\n",
    "print(ele)"
   ]
  },
  {
   "cell_type": "code",
   "execution_count": 12,
   "id": "75853470",
   "metadata": {},
   "outputs": [
    {
     "name": "stdout",
     "output_type": "stream",
     "text": [
      "<b another-attribute=\"1\" id=\"verybold\"> Test 2 </b>\n",
      " Test 2 \n"
     ]
    }
   ],
   "source": [
    "tag = Soup.find_all('b')[3]\n",
    "print(tag)\n",
    "print(tag.string)"
   ]
  },
  {
   "cell_type": "code",
   "execution_count": 13,
   "id": "9bf7abf0",
   "metadata": {},
   "outputs": [
    {
     "name": "stdout",
     "output_type": "stream",
     "text": [
      "<b another-attribute=\"1\" id=\"verybold\">svit, bit, itm, ntc</b>\n"
     ]
    }
   ],
   "source": [
    "tag.string.replace_with(\"svit, bit, itm, ntc\")\n",
    "print(tag)"
   ]
  }
 ],
 "metadata": {
  "kernelspec": {
   "display_name": "Python 3 (ipykernel)",
   "language": "python",
   "name": "python3"
  },
  "language_info": {
   "codemirror_mode": {
    "name": "ipython",
    "version": 3
   },
   "file_extension": ".py",
   "mimetype": "text/x-python",
   "name": "python",
   "nbconvert_exporter": "python",
   "pygments_lexer": "ipython3",
   "version": "3.9.12"
  }
 },
 "nbformat": 4,
 "nbformat_minor": 5
}
