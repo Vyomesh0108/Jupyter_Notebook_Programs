{
 "cells": [
  {
   "cell_type": "code",
   "execution_count": 1,
   "id": "1788bffb",
   "metadata": {},
   "outputs": [],
   "source": [
    "import numpy as np"
   ]
  },
  {
   "cell_type": "code",
   "execution_count": 2,
   "id": "c09f1d58",
   "metadata": {},
   "outputs": [
    {
     "name": "stdout",
     "output_type": "stream",
     "text": [
      "[ 10.  20.  30.  40.  50.  60.  70.  80.  90. 100.]\n",
      "550.0\n"
     ]
    }
   ],
   "source": [
    "# The 'loadtxt()' function can be used to load data from a file into an array.\n",
    "x = np.loadtxt('myno.txt')\n",
    "print(x)\n",
    "\n",
    "# This will do sum of the numbers of 'myno.txt' file\n",
    "print(np.sum(x))"
   ]
  },
  {
   "cell_type": "code",
   "execution_count": 3,
   "id": "c1b7b418",
   "metadata": {},
   "outputs": [
    {
     "name": "stdout",
     "output_type": "stream",
     "text": [
      "[[ 10.  20.  30.  40.  50.]\n",
      " [100. 200. 300. 400. 500.]\n",
      " [  1.   2.   3.   4.   5.]\n",
      " [ 11.  22.  33.  44.  55.]]\n"
     ]
    }
   ],
   "source": [
    "x = np.loadtxt('mynos.txt')\n",
    "print(x)"
   ]
  },
  {
   "cell_type": "code",
   "execution_count": 4,
   "id": "35547ffc",
   "metadata": {},
   "outputs": [
    {
     "name": "stdout",
     "output_type": "stream",
     "text": [
      "a =  [10. 20. 30. 40. 50.]\n",
      "b =  [100. 200. 300. 400. 500.]\n",
      "c =  [1. 2. 3. 4. 5.]\n",
      "d =  [11. 22. 33. 44. 55.]\n"
     ]
    }
   ],
   "source": [
    "a, b, c, d = np.loadtxt('mynos.txt')\n",
    "print(\"a = \",a)\n",
    "print(\"b = \",b)\n",
    "print(\"c = \",c)\n",
    "print(\"d = \",d)"
   ]
  },
  {
   "cell_type": "code",
   "execution_count": 6,
   "id": "7e03b4fd",
   "metadata": {},
   "outputs": [
    {
     "name": "stdout",
     "output_type": "stream",
     "text": [
      "[[ 10.  nan  30.  nan  50.]\n",
      " [100. 200.  nan 400.  nan]\n",
      " [ nan  20.  nan  40.  nan]\n",
      " [ 10.  nan  30.  nan  50.]]\n"
     ]
    }
   ],
   "source": [
    "# This will generate the missing numbers as 'nan' in file 'missingnos.txt'\n",
    "x = np.genfromtxt('missingnos.txt')\n",
    "print(x)"
   ]
  },
  {
   "cell_type": "code",
   "execution_count": 7,
   "id": "a607b34b",
   "metadata": {},
   "outputs": [
    {
     "name": "stdout",
     "output_type": "stream",
     "text": [
      "[10. nan 30. nan 50.]\n",
      "nan\n"
     ]
    }
   ],
   "source": [
    "a, b, c, d = np.genfromtxt('missingnos.txt')\n",
    "print(a)\n",
    "print(sum(a))"
   ]
  },
  {
   "cell_type": "code",
   "execution_count": 8,
   "id": "4f516774",
   "metadata": {},
   "outputs": [
    {
     "name": "stdout",
     "output_type": "stream",
     "text": [
      "[[ 10.   0.  30.   0.  50.]\n",
      " [100. 200.   0. 400.   0.]\n",
      " [  0.  20.   0.  40.   0.]\n",
      " [ 10.   0.  30.   0.  50.]]\n"
     ]
    }
   ],
   "source": [
    "# This will replace value of 'nan' as '0'\n",
    "x = np.genfromtxt('missingnos.txt', filling_values = 0)\n",
    "print(x)"
   ]
  },
  {
   "cell_type": "code",
   "execution_count": 9,
   "id": "fb8bc468",
   "metadata": {},
   "outputs": [
    {
     "name": "stdout",
     "output_type": "stream",
     "text": [
      "[10.  0. 30.  0. 50.]\n",
      "90.0\n"
     ]
    }
   ],
   "source": [
    "a, b, c, d = np.genfromtxt('missingnos.txt', filling_values = 0)\n",
    "print(a)\n",
    "print(sum(a))"
   ]
  },
  {
   "cell_type": "code",
   "execution_count": 10,
   "id": "efe51ab9",
   "metadata": {},
   "outputs": [],
   "source": [
    "# The 'save()' function is used to save a numpy array to a file\n",
    "x = np.array([110, 230, 320, 4, 5, 650, 7, 830, 910, 10])\n",
    "np.savetxt('storenos.txt', x, delimiter = \",\")\n",
    "# Delimiter will separate the values & write in new line"
   ]
  },
  {
   "cell_type": "code",
   "execution_count": 11,
   "id": "5987922b",
   "metadata": {},
   "outputs": [
    {
     "name": "stdout",
     "output_type": "stream",
     "text": [
      "[110. 230. 320.   4.   5. 650.   7. 830. 910.  10.]\n"
     ]
    }
   ],
   "source": [
    "x = np.loadtxt('storenos.txt')\n",
    "print(x)"
   ]
  }
 ],
 "metadata": {
  "kernelspec": {
   "display_name": "Python 3 (ipykernel)",
   "language": "python",
   "name": "python3"
  },
  "language_info": {
   "codemirror_mode": {
    "name": "ipython",
    "version": 3
   },
   "file_extension": ".py",
   "mimetype": "text/x-python",
   "name": "python",
   "nbconvert_exporter": "python",
   "pygments_lexer": "ipython3",
   "version": "3.9.12"
  }
 },
 "nbformat": 4,
 "nbformat_minor": 5
}
