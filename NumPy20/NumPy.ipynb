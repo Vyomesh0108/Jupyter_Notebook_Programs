{
 "cells": [
  {
   "cell_type": "code",
   "execution_count": 1,
   "id": "459de9df",
   "metadata": {},
   "outputs": [
    {
     "name": "stdout",
     "output_type": "stream",
     "text": [
      "Requirement already satisfied: numpy in d:\\anaconda3\\lib\\site-packages (1.21.5)\n"
     ]
    }
   ],
   "source": [
    "!pip install numpy"
   ]
  },
  {
   "cell_type": "code",
   "execution_count": 2,
   "id": "2789014f",
   "metadata": {},
   "outputs": [],
   "source": [
    "import numpy as np"
   ]
  },
  {
   "cell_type": "code",
   "execution_count": 3,
   "id": "669a75ba",
   "metadata": {},
   "outputs": [
    {
     "data": {
      "text/plain": [
       "'1.21.5'"
      ]
     },
     "execution_count": 3,
     "metadata": {},
     "output_type": "execute_result"
    }
   ],
   "source": [
    "np.__version__"
   ]
  },
  {
   "cell_type": "code",
   "execution_count": 4,
   "id": "9654a6e7",
   "metadata": {},
   "outputs": [
    {
     "name": "stdout",
     "output_type": "stream",
     "text": [
      "['10' '20' '30' 'vyomesh' 'mistry' '50' '60' '70']\n"
     ]
    }
   ],
   "source": [
    "# List in NumPy\n",
    "x = np.array([10, 20, 30, 'vyomesh', 'mistry', 50, 60, 70])\n",
    "print(x)"
   ]
  },
  {
   "cell_type": "code",
   "execution_count": 6,
   "id": "e7e430c5",
   "metadata": {},
   "outputs": [
    {
     "name": "stdout",
     "output_type": "stream",
     "text": [
      "[ 10  20   4 500  25  67]\n"
     ]
    }
   ],
   "source": [
    "a = np.array([10, 20, 4, 500, 25, 67])\n",
    "print(a)"
   ]
  },
  {
   "cell_type": "code",
   "execution_count": 7,
   "id": "f0039037",
   "metadata": {},
   "outputs": [
    {
     "name": "stdout",
     "output_type": "stream",
     "text": [
      "[10 20 30 40 50]\n"
     ]
    }
   ],
   "source": [
    "# 1-Dimensional array\n",
    "a = np.array([10, 20, 30, 40, 50])\n",
    "print(a)"
   ]
  },
  {
   "cell_type": "code",
   "execution_count": 8,
   "id": "9588e161",
   "metadata": {},
   "outputs": [
    {
     "name": "stdout",
     "output_type": "stream",
     "text": [
      "[[ 10  20  30]\n",
      " [ 40  50  60]\n",
      " [ 70  80  90]\n",
      " [100 110 120]\n",
      " [130 140 150]]\n"
     ]
    }
   ],
   "source": [
    "# 2-Dimensional array\n",
    "b = np.array([[10, 20, 30], [40, 50, 60], [70, 80, 90], [100, 110, 120], [130, 140, 150]])\n",
    "print(b)"
   ]
  },
  {
   "cell_type": "code",
   "execution_count": 9,
   "id": "63ef5f76",
   "metadata": {},
   "outputs": [
    {
     "name": "stdout",
     "output_type": "stream",
     "text": [
      "[1. 1. 1. 1. 1.]\n"
     ]
    }
   ],
   "source": [
    "m = np.ones(5)\n",
    "print(m)\n",
    "\n",
    "# Prints '1(one) 5 times'"
   ]
  },
  {
   "cell_type": "code",
   "execution_count": 10,
   "id": "e932ac50",
   "metadata": {},
   "outputs": [
    {
     "name": "stdout",
     "output_type": "stream",
     "text": [
      "[0. 0. 0. 0. 0.]\n",
      "[0. 0. 0. 0. 0.]\n"
     ]
    }
   ],
   "source": [
    "n = np.zeros(5)\n",
    "print(n)\n",
    "\n",
    "l = np.empty(5)\n",
    "print(l)\n",
    "\n",
    "# Prints '0(zeros) 5 times'"
   ]
  },
  {
   "cell_type": "code",
   "execution_count": 12,
   "id": "bb7fa642",
   "metadata": {},
   "outputs": [
    {
     "name": "stdout",
     "output_type": "stream",
     "text": [
      "[[10 10 10 10 10]\n",
      " [10 10 10 10 10]\n",
      " [10 10 10 10 10]]\n",
      "\n",
      "[[6 6 6]\n",
      " [6 6 6]\n",
      " [6 6 6]\n",
      " [6 6 6]]\n"
     ]
    }
   ],
   "source": [
    "k = np.full((3,5), 10)\n",
    "print(k)\n",
    "print()\n",
    "\n",
    "l = np.full((4,3), 6)\n",
    "print(l)\n",
    "# Returns a new array with the same shape {eg:- (3,5)} & type as a given array filled with a fill_value {eg:- 10}"
   ]
  },
  {
   "cell_type": "code",
   "execution_count": 14,
   "id": "7262907a",
   "metadata": {},
   "outputs": [
    {
     "name": "stdout",
     "output_type": "stream",
     "text": [
      "[1 3 5 7 9]\n",
      "[ 1  4  7 10 13 16 19]\n"
     ]
    }
   ],
   "source": [
    "p = np.arange(1, 10, 2)\n",
    "print(p)\n",
    "\n",
    "s = np.arange(1, 20, 3)\n",
    "print(s)\n",
    "\n",
    "# To create sequences of numbers, but returns an array"
   ]
  },
  {
   "cell_type": "code",
   "execution_count": 15,
   "id": "c63edc27",
   "metadata": {},
   "outputs": [
    {
     "name": "stdout",
     "output_type": "stream",
     "text": [
      "<class 'numpy.ndarray'>\n",
      "\n",
      "<class 'numpy.int32'>\n"
     ]
    }
   ],
   "source": [
    "a = np.array([10, 20, 4, 500, 25, 67])\n",
    "print(type(a))\n",
    "print()\n",
    "print(type(a[0]))\n",
    "\n",
    "# For describing data type"
   ]
  },
  {
   "cell_type": "code",
   "execution_count": 16,
   "id": "3c31ebeb",
   "metadata": {},
   "outputs": [
    {
     "name": "stdout",
     "output_type": "stream",
     "text": [
      "(6,)\n",
      "(3, 5)\n"
     ]
    }
   ],
   "source": [
    "a = np.array([10, 20, 4, 500, 25, 67])\n",
    "print(a.shape)\n",
    "\n",
    "k = np.full((3, 5), 10)\n",
    "print(k.shape)\n",
    "\n",
    "# For describing shape"
   ]
  },
  {
   "cell_type": "code",
   "execution_count": 17,
   "id": "c5e4ade7",
   "metadata": {},
   "outputs": [
    {
     "name": "stdout",
     "output_type": "stream",
     "text": [
      "67\n",
      "[  4 500  25]\n"
     ]
    }
   ],
   "source": [
    "a = np.array([10, 20, 4, 500, 25, 67])\n",
    "print(a[-1])\n",
    "# Shows last numbers/ character\n",
    "print(a[2:5])\n",
    "# Shows character/ number from 2nd position to 5th position"
   ]
  },
  {
   "cell_type": "code",
   "execution_count": 18,
   "id": "6bdb00bf",
   "metadata": {},
   "outputs": [
    {
     "name": "stdout",
     "output_type": "stream",
     "text": [
      "6\n",
      "[ 10.  20.   4. 500.  25.  67.]\n",
      "[ 10.  20.   4. 500.  25.  67.]\n",
      "[ 10  20   4 500  25  67]\n",
      "626\n",
      "670000000\n",
      "178.09984715197135\n",
      "31719.55555555556\n",
      "104.33333333333333\n",
      "4\n",
      "500\n",
      "[  4  10  20  25  67 500]\n",
      "6\n",
      "[ 67  25 500   4  20  10]\n"
     ]
    }
   ],
   "source": [
    "a = np.array([10, 20, 4, 500, 25, 67])\n",
    "# Shows length of 'a' \n",
    "print(len(a))\n",
    "\n",
    "# Used to cast object to specified type.\n",
    "print(a.astype(float))\n",
    "x = a.astype(float)\n",
    "print(x)\n",
    "print(a)\n",
    "\n",
    "# For Finding sum(total) of 'a'\n",
    "print(np.sum(a))\n",
    "\n",
    "# For Finding Prod(multiplication) of 'a'\n",
    "print(np.prod(a))\n",
    "\n",
    "# For Finding standard deviation of 'a'\n",
    "print(np.std(a))\n",
    "\n",
    "# For Finding variable of 'a'\n",
    "print(np.var(a))\n",
    "\n",
    "# For Finding Mean of 'a'\n",
    "print(np.mean(a))\n",
    "\n",
    "# For Finding minimum number of 'a'\n",
    "print(np.min(a))\n",
    "\n",
    "# For Finding maximum number of 'a'\n",
    "print(np.max(a))\n",
    "\n",
    "# For Sorting 'a'\n",
    "print(np.sort(a))\n",
    "\n",
    "# For Finding size of 'a'\n",
    "print(np.size(a))\n",
    "\n",
    "# For Reversing 'a'\n",
    "print(a[::-1])"
   ]
  },
  {
   "cell_type": "code",
   "execution_count": 3,
   "id": "6fae27b0",
   "metadata": {},
   "outputs": [
    {
     "name": "stdout",
     "output_type": "stream",
     "text": [
      "[False False  True  True  True False]\n",
      "[400 500 250]\n",
      "[10 20 67]\n"
     ]
    }
   ],
   "source": [
    "a = np.array([10, 20, 400, 500, 250, 67])\n",
    "# This will see values greater than 100 in 'a'. If it finds values greater than 100 then it will return True or else it will return False.\n",
    "print(a>100)\n",
    "\n",
    "# It will show values greater than 100.\n",
    "print(a[a>100])\n",
    "\n",
    "# It will show values smaller than 100.\n",
    "print(a[a<100])"
   ]
  },
  {
   "cell_type": "code",
   "execution_count": 4,
   "id": "724a23c6",
   "metadata": {},
   "outputs": [
    {
     "name": "stdout",
     "output_type": "stream",
     "text": [
      "[11 22 33 44 55]\n",
      "[ 9 18 27 36 45]\n",
      "[ 10  40  90 160 250]\n",
      "[10. 10. 10. 10. 10.]\n",
      "[100 200 300 400 500]\n",
      "False\n",
      "True\n"
     ]
    }
   ],
   "source": [
    "a = np.array([10, 20, 30, 40, 50])\n",
    "b = np.array([1, 2, 3, 4, 5])\n",
    "x = a + b\n",
    "print(x)\n",
    "\n",
    "y = a - b\n",
    "print(y)\n",
    "\n",
    "z = a * b\n",
    "print(z)\n",
    "\n",
    "w = a / b\n",
    "print(w)\n",
    "\n",
    "# Multiple 'a' with '10'\n",
    "s = a * 10\n",
    "print(s)\n",
    "\n",
    "# It will show a & b are equal or not. If equals then True & not then False.\n",
    "print(np.array_equal(a, b))\n",
    "c = np.array([10, 20, 30, 40, 50])\n",
    "d = np.array([10, 20, 30, 40, 50])\n",
    "print(np.array_equal(c, d))"
   ]
  },
  {
   "cell_type": "code",
   "execution_count": 5,
   "id": "00bf3228",
   "metadata": {},
   "outputs": [],
   "source": [
    "?a\n",
    "# This will show full description of 'a'"
   ]
  },
  {
   "cell_type": "code",
   "execution_count": 6,
   "id": "d3956a3d",
   "metadata": {},
   "outputs": [
    {
     "name": "stdout",
     "output_type": "stream",
     "text": [
      "[ 1.  4.  7. 10.]\n",
      "[ 1.    5.75 10.5  15.25 20.  ]\n"
     ]
    }
   ],
   "source": [
    "# This will break numbers from 1 to 10 in 4 parts.\n",
    "x = np.linspace(1, 10, 4)\n",
    "print(x)\n",
    "\n",
    "# This will break numbers from 1 to 2 in 5 parts.\n",
    "y = np.linspace(1, 20, 5)\n",
    "print(y)"
   ]
  },
  {
   "cell_type": "code",
   "execution_count": 8,
   "id": "90238dd7",
   "metadata": {},
   "outputs": [
    {
     "name": "stdout",
     "output_type": "stream",
     "text": [
      "[[0.84472018 0.64871852 0.69113497]\n",
      " [0.9077032  0.42649474 0.18127542]\n",
      " [0.2762736  0.02728899 0.56312861]]\n",
      "\n",
      "[[84.47201781 64.87185224 69.11349692]\n",
      " [90.7703197  42.64947441 18.12754217]\n",
      " [27.62735951  2.72889916 56.31286149]]\n",
      "\n",
      "[[84 64 69]\n",
      " [90 42 18]\n",
      " [27  2 56]]\n",
      "\n",
      "[[0 0 0]\n",
      " [0 0 0]\n",
      " [0 0 0]]\n"
     ]
    }
   ],
   "source": [
    "# This will make 3x3 matrix with random numbers\n",
    "w = np.random.random((3, 3))\n",
    "print(w)\n",
    "print()\n",
    "\n",
    "x = w * 100\n",
    "print(x)\n",
    "print()\n",
    "\n",
    "y = (w * 100).astype(int)\n",
    "print(y)\n",
    "print()\n",
    "\n",
    "# This will make 3x3 matrix with random numbers but in integer format\n",
    "z = np.random.random((3, 3)).astype(int)\n",
    "print(z)"
   ]
  },
  {
   "cell_type": "code",
   "execution_count": 9,
   "id": "8711fade",
   "metadata": {},
   "outputs": [
    {
     "name": "stdout",
     "output_type": "stream",
     "text": [
      "[[5 5 5 5 5]\n",
      " [5 5 5 5 5]\n",
      " [5 5 5 5 5]\n",
      " [5 5 5 5 5]]\n"
     ]
    }
   ],
   "source": [
    "x = np.full((4, 5), 5)\n",
    "print(x)"
   ]
  },
  {
   "cell_type": "code",
   "execution_count": 10,
   "id": "e68a1a11",
   "metadata": {},
   "outputs": [
    {
     "name": "stdout",
     "output_type": "stream",
     "text": [
      "[10 20 30 40 50]\n",
      "[10 20 30 40 50]\n"
     ]
    }
   ],
   "source": [
    "a = np.array([10, 20, 30, 40, 50])\n",
    "# This will make copy of a in b\n",
    "b = a.copy()\n",
    "print(a)\n",
    "print(b)"
   ]
  },
  {
   "cell_type": "code",
   "execution_count": 12,
   "id": "4ea77c1c",
   "metadata": {},
   "outputs": [
    {
     "name": "stdout",
     "output_type": "stream",
     "text": [
      "[[1. 0. 0. 0. 0.]\n",
      " [0. 1. 0. 0. 0.]\n",
      " [0. 0. 1. 0. 0.]\n",
      " [0. 0. 0. 1. 0.]\n",
      " [0. 0. 0. 0. 1.]]\n",
      "\n",
      "[[1. 0. 0. 0. 0.]\n",
      " [0. 1. 0. 0. 0.]\n",
      " [0. 0. 1. 0. 0.]\n",
      " [0. 0. 0. 1. 0.]\n",
      " [0. 0. 0. 0. 1.]]\n"
     ]
    }
   ],
   "source": [
    "# This will make identity arrays for matrix calculation \n",
    "a = np.identity(5) \n",
    "print(a)\n",
    "print()\n",
    "\n",
    "b = np.eye(5)\n",
    "print(b)"
   ]
  },
  {
   "cell_type": "code",
   "execution_count": 13,
   "id": "57dcb0b7",
   "metadata": {},
   "outputs": [
    {
     "name": "stdout",
     "output_type": "stream",
     "text": [
      "[[[ 1  2  3]\n",
      "  [ 4  5  6]]\n",
      "\n",
      " [[ 7  8  9]\n",
      "  [10 11 12]]]\n"
     ]
    }
   ],
   "source": [
    "# 3-Dimensional Array\n",
    "a = np.array([[[1, 2, 3], [4, 5, 6]],[[7, 8, 9], [10, 11, 12]]])\n",
    "print(a)"
   ]
  },
  {
   "cell_type": "code",
   "execution_count": 14,
   "id": "208cf677",
   "metadata": {},
   "outputs": [
    {
     "name": "stdout",
     "output_type": "stream",
     "text": [
      "0\n",
      "1\n",
      "2\n",
      "3\n"
     ]
    }
   ],
   "source": [
    "a = np.array(6)\n",
    "b = np.array([10, 20, 30, 40, 50])\n",
    "c = np.array([[1, 2, 3], [4, 5, 6]])\n",
    "d = np.array([[[1, 2, 3], [4, 5, 6]], [[7, 8, 9], [10, 11, 12]]])\n",
    "# This will show dimensions of an array\n",
    "print(a.ndim)\n",
    "print(b.ndim)\n",
    "print(c.ndim)\n",
    "print(d.ndim)"
   ]
  }
 ],
 "metadata": {
  "kernelspec": {
   "display_name": "Python 3 (ipykernel)",
   "language": "python",
   "name": "python3"
  },
  "language_info": {
   "codemirror_mode": {
    "name": "ipython",
    "version": 3
   },
   "file_extension": ".py",
   "mimetype": "text/x-python",
   "name": "python",
   "nbconvert_exporter": "python",
   "pygments_lexer": "ipython3",
   "version": "3.9.12"
  }
 },
 "nbformat": 4,
 "nbformat_minor": 5
}
